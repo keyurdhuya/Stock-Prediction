{
 "cells": [
  {
   "cell_type": "code",
   "execution_count": 1,
   "id": "cf130b29",
   "metadata": {},
   "outputs": [],
   "source": [
    "# Step 1  unnecessary warnings during code execution (Always)\n",
    "import warnings\n",
    "warnings.filterwarnings('ignore')\n",
    "\n",
    "# Step 2  Import pandas and Numpy Library\n",
    "import pandas as pd\n",
    "import numpy as np\n",
    "\n",
    "# Deciding decimal places \n",
    "np.set_printoptions(precision=4, linewidth=100)\n",
    "\n",
    "# matplot libarary for display data in graphical format\n",
    "import matplotlib.pyplot as plt"
   ]
  },
  {
   "cell_type": "code",
   "execution_count": 2,
   "id": "f535f6d1",
   "metadata": {},
   "outputs": [
    {
     "data": {
      "text/html": [
       "<div>\n",
       "<style scoped>\n",
       "    .dataframe tbody tr th:only-of-type {\n",
       "        vertical-align: middle;\n",
       "    }\n",
       "\n",
       "    .dataframe tbody tr th {\n",
       "        vertical-align: top;\n",
       "    }\n",
       "\n",
       "    .dataframe thead th {\n",
       "        text-align: right;\n",
       "    }\n",
       "</style>\n",
       "<table border=\"1\" class=\"dataframe\">\n",
       "  <thead>\n",
       "    <tr style=\"text-align: right;\">\n",
       "      <th></th>\n",
       "      <th>Date</th>\n",
       "      <th>TCS</th>\n",
       "      <th>INFY</th>\n",
       "      <th>Nifty</th>\n",
       "    </tr>\n",
       "  </thead>\n",
       "  <tbody>\n",
       "    <tr>\n",
       "      <th>0</th>\n",
       "      <td>01-Apr-20</td>\n",
       "      <td>1708.75</td>\n",
       "      <td>602.80</td>\n",
       "      <td>8253.80</td>\n",
       "    </tr>\n",
       "    <tr>\n",
       "      <th>1</th>\n",
       "      <td>03-Apr-20</td>\n",
       "      <td>1654.20</td>\n",
       "      <td>585.70</td>\n",
       "      <td>8083.80</td>\n",
       "    </tr>\n",
       "    <tr>\n",
       "      <th>2</th>\n",
       "      <td>07-Apr-20</td>\n",
       "      <td>1775.20</td>\n",
       "      <td>639.00</td>\n",
       "      <td>8792.20</td>\n",
       "    </tr>\n",
       "    <tr>\n",
       "      <th>3</th>\n",
       "      <td>08-Apr-20</td>\n",
       "      <td>1705.45</td>\n",
       "      <td>631.60</td>\n",
       "      <td>8748.75</td>\n",
       "    </tr>\n",
       "    <tr>\n",
       "      <th>4</th>\n",
       "      <td>09-Apr-20</td>\n",
       "      <td>1766.15</td>\n",
       "      <td>636.25</td>\n",
       "      <td>9111.90</td>\n",
       "    </tr>\n",
       "    <tr>\n",
       "      <th>5</th>\n",
       "      <td>13-Apr-20</td>\n",
       "      <td>1759.25</td>\n",
       "      <td>637.40</td>\n",
       "      <td>8993.85</td>\n",
       "    </tr>\n",
       "    <tr>\n",
       "      <th>6</th>\n",
       "      <td>15-Apr-20</td>\n",
       "      <td>1735.15</td>\n",
       "      <td>639.05</td>\n",
       "      <td>8925.30</td>\n",
       "    </tr>\n",
       "    <tr>\n",
       "      <th>7</th>\n",
       "      <td>16-Apr-20</td>\n",
       "      <td>1716.05</td>\n",
       "      <td>623.85</td>\n",
       "      <td>8992.80</td>\n",
       "    </tr>\n",
       "    <tr>\n",
       "      <th>8</th>\n",
       "      <td>17-Apr-20</td>\n",
       "      <td>1806.20</td>\n",
       "      <td>628.75</td>\n",
       "      <td>9266.75</td>\n",
       "    </tr>\n",
       "    <tr>\n",
       "      <th>9</th>\n",
       "      <td>20-Apr-20</td>\n",
       "      <td>1818.65</td>\n",
       "      <td>653.30</td>\n",
       "      <td>9261.85</td>\n",
       "    </tr>\n",
       "  </tbody>\n",
       "</table>\n",
       "</div>"
      ],
      "text/plain": [
       "        Date      TCS    INFY    Nifty\n",
       "0  01-Apr-20  1708.75  602.80  8253.80\n",
       "1  03-Apr-20  1654.20  585.70  8083.80\n",
       "2  07-Apr-20  1775.20  639.00  8792.20\n",
       "3  08-Apr-20  1705.45  631.60  8748.75\n",
       "4  09-Apr-20  1766.15  636.25  9111.90\n",
       "5  13-Apr-20  1759.25  637.40  8993.85\n",
       "6  15-Apr-20  1735.15  639.05  8925.30\n",
       "7  16-Apr-20  1716.05  623.85  8992.80\n",
       "8  17-Apr-20  1806.20  628.75  9266.75\n",
       "9  20-Apr-20  1818.65  653.30  9261.85"
      ]
     },
     "execution_count": 2,
     "metadata": {},
     "output_type": "execute_result"
    }
   ],
   "source": [
    "#Step 3 Importing datafile and storing it into Pandas dataframe (Always)\n",
    "Stock_df = pd.read_csv('Finance.csv')\n",
    "Stock_df.head(10)"
   ]
  },
  {
   "cell_type": "code",
   "execution_count": 3,
   "id": "3670e35b",
   "metadata": {},
   "outputs": [
    {
     "name": "stdout",
     "output_type": "stream",
     "text": [
      "<class 'pandas.core.frame.DataFrame'>\n",
      "RangeIndex: 249 entries, 0 to 248\n",
      "Data columns (total 4 columns):\n",
      " #   Column  Non-Null Count  Dtype  \n",
      "---  ------  --------------  -----  \n",
      " 0   Date    249 non-null    object \n",
      " 1   TCS     249 non-null    float64\n",
      " 2   INFY    249 non-null    float64\n",
      " 3   Nifty   249 non-null    float64\n",
      "dtypes: float64(3), object(1)\n",
      "memory usage: 7.9+ KB\n"
     ]
    }
   ],
   "source": [
    "# Step 4 information of data #\n",
    "Stock_df.info() "
   ]
  },
  {
   "cell_type": "code",
   "execution_count": 4,
   "id": "314c7f30",
   "metadata": {},
   "outputs": [
    {
     "data": {
      "text/plain": [
       "Text(0, 0.5, 'TCS')"
      ]
     },
     "execution_count": 4,
     "metadata": {},
     "output_type": "execute_result"
    },
    {
     "data": {
      "image/png": "[encoded data removed]",
      "text/plain": [
       "<Figure size 432x288 with 1 Axes>"
      ]
     },
     "metadata": {
      "needs_background": "light"
     },
     "output_type": "display_data"
    }
   ],
   "source": [
    "# Step 5  importing libraries for plotting the data(First Assumtion of LR Model is linearity bet x and y)\n",
    "plt.scatter(Stock_df['Nifty'],Stock_df['TCS'])\n",
    "plt.xlabel('Nifty')\n",
    "plt.ylabel('TCS')"
   ]
  },
  {
   "cell_type": "code",
   "execution_count": 5,
   "id": "e6737ed1",
   "metadata": {},
   "outputs": [
    {
     "data": {
      "text/html": [
       "<div>\n",
       "<style scoped>\n",
       "    .dataframe tbody tr th:only-of-type {\n",
       "        vertical-align: middle;\n",
       "    }\n",
       "\n",
       "    .dataframe tbody tr th {\n",
       "        vertical-align: top;\n",
       "    }\n",
       "\n",
       "    .dataframe thead th {\n",
       "        text-align: right;\n",
       "    }\n",
       "</style>\n",
       "<table border=\"1\" class=\"dataframe\">\n",
       "  <thead>\n",
       "    <tr style=\"text-align: right;\">\n",
       "      <th></th>\n",
       "      <th>const</th>\n",
       "      <th>Nifty</th>\n",
       "    </tr>\n",
       "  </thead>\n",
       "  <tbody>\n",
       "    <tr>\n",
       "      <th>0</th>\n",
       "      <td>1.0</td>\n",
       "      <td>8253.80</td>\n",
       "    </tr>\n",
       "    <tr>\n",
       "      <th>1</th>\n",
       "      <td>1.0</td>\n",
       "      <td>8083.80</td>\n",
       "    </tr>\n",
       "    <tr>\n",
       "      <th>2</th>\n",
       "      <td>1.0</td>\n",
       "      <td>8792.20</td>\n",
       "    </tr>\n",
       "    <tr>\n",
       "      <th>3</th>\n",
       "      <td>1.0</td>\n",
       "      <td>8748.75</td>\n",
       "    </tr>\n",
       "    <tr>\n",
       "      <th>4</th>\n",
       "      <td>1.0</td>\n",
       "      <td>9111.90</td>\n",
       "    </tr>\n",
       "  </tbody>\n",
       "</table>\n",
       "</div>"
      ],
      "text/plain": [
       "   const    Nifty\n",
       "0    1.0  8253.80\n",
       "1    1.0  8083.80\n",
       "2    1.0  8792.20\n",
       "3    1.0  8748.75\n",
       "4    1.0  9111.90"
      ]
     },
     "execution_count": 5,
     "metadata": {},
     "output_type": "execute_result"
    }
   ],
   "source": [
    "# Step 6 importing statmodel #\n",
    "import statsmodels.api as sm\n",
    "\n",
    "# Step 7 x is defined as independent variable (feature) #\n",
    "X = sm.add_constant(Stock_df['Nifty'] ) \n",
    "X.head(5)"
   ]
  },
  {
   "cell_type": "code",
   "execution_count": 6,
   "id": "091cb221",
   "metadata": {},
   "outputs": [],
   "source": [
    "# Step 8  Y is defined as dependent varibale(Target Variable) #\n",
    "y = Stock_df['TCS']"
   ]
  },
  {
   "cell_type": "code",
   "execution_count": 7,
   "id": "a4a0e597",
   "metadata": {},
   "outputs": [],
   "source": [
    "# Step 9  importing library Sklearrn for ML model \n",
    "from sklearn.model_selection import train_test_split"
   ]
  },
  {
   "cell_type": "code",
   "execution_count": 8,
   "id": "be332942",
   "metadata": {},
   "outputs": [],
   "source": [
    "# Step 10  splitting datset into train and test set\n",
    "train_X, test_X, train_y, test_y = train_test_split( X ,y,train_size = 0.8,random_state = 100)"
   ]
  },
  {
   "cell_type": "code",
   "execution_count": 9,
   "id": "3b8abdf7",
   "metadata": {},
   "outputs": [],
   "source": [
    "# Step 11  Fitting Linear Model Equation\n",
    "TCS_lm = sm.OLS(train_y, train_X).fit()"
   ]
  },
  {
   "cell_type": "code",
   "execution_count": 10,
   "id": "e8ba9208",
   "metadata": {},
   "outputs": [
    {
     "name": "stdout",
     "output_type": "stream",
     "text": [
      "const   -150.887038\n",
      "Nifty      0.222368\n",
      "dtype: float64\n"
     ]
    }
   ],
   "source": [
    "# Step 12  Printing Result of Linear Regression Model #\n",
    "print(TCS_lm.params) "
   ]
  },
  {
   "cell_type": "code",
   "execution_count": 11,
   "id": "f8063a0b",
   "metadata": {},
   "outputs": [
    {
     "data": {
      "text/html": [
       "<table class=\"simpletable\">\n",
       "<caption>OLS Regression Results</caption>\n",
       "<tr>\n",
       "  <th>Dep. Variable:</th>           <td>TCS</td>       <th>  R-squared:         </th> <td>   0.927</td> \n",
       "</tr>\n",
       "<tr>\n",
       "  <th>Model:</th>                   <td>OLS</td>       <th>  Adj. R-squared:    </th> <td>   0.926</td> \n",
       "</tr>\n",
       "<tr>\n",
       "  <th>Method:</th>             <td>Least Squares</td>  <th>  F-statistic:       </th> <td>   2494.</td> \n",
       "</tr>\n",
       "<tr>\n",
       "  <th>Date:</th>             <td>Thu, 27 Jan 2022</td> <th>  Prob (F-statistic):</th> <td>8.44e-114</td>\n",
       "</tr>\n",
       "<tr>\n",
       "  <th>Time:</th>                 <td>20:29:51</td>     <th>  Log-Likelihood:    </th> <td> -1237.8</td> \n",
       "</tr>\n",
       "<tr>\n",
       "  <th>No. Observations:</th>      <td>   199</td>      <th>  AIC:               </th> <td>   2480.</td> \n",
       "</tr>\n",
       "<tr>\n",
       "  <th>Df Residuals:</th>          <td>   197</td>      <th>  BIC:               </th> <td>   2486.</td> \n",
       "</tr>\n",
       "<tr>\n",
       "  <th>Df Model:</th>              <td>     1</td>      <th>                     </th>     <td> </td>    \n",
       "</tr>\n",
       "<tr>\n",
       "  <th>Covariance Type:</th>      <td>nonrobust</td>    <th>                     </th>     <td> </td>    \n",
       "</tr>\n",
       "</table>\n",
       "<table class=\"simpletable\">\n",
       "<tr>\n",
       "    <td></td>       <th>coef</th>     <th>std err</th>      <th>t</th>      <th>P>|t|</th>  <th>[0.025</th>    <th>0.975]</th>  \n",
       "</tr>\n",
       "<tr>\n",
       "  <th>const</th> <td> -150.8870</td> <td>   53.925</td> <td>   -2.798</td> <td> 0.006</td> <td> -257.232</td> <td>  -44.542</td>\n",
       "</tr>\n",
       "<tr>\n",
       "  <th>Nifty</th> <td>    0.2224</td> <td>    0.004</td> <td>   49.942</td> <td> 0.000</td> <td>    0.214</td> <td>    0.231</td>\n",
       "</tr>\n",
       "</table>\n",
       "<table class=\"simpletable\">\n",
       "<tr>\n",
       "  <th>Omnibus:</th>       <td>21.142</td> <th>  Durbin-Watson:     </th> <td>   2.020</td>\n",
       "</tr>\n",
       "<tr>\n",
       "  <th>Prob(Omnibus):</th> <td> 0.000</td> <th>  Jarque-Bera (JB):  </th> <td>  25.015</td>\n",
       "</tr>\n",
       "<tr>\n",
       "  <th>Skew:</th>          <td> 0.863</td> <th>  Prob(JB):          </th> <td>3.70e-06</td>\n",
       "</tr>\n",
       "<tr>\n",
       "  <th>Kurtosis:</th>      <td> 3.194</td> <th>  Cond. No.          </th> <td>7.53e+04</td>\n",
       "</tr>\n",
       "</table><br/><br/>Notes:<br/>[1] Standard Errors assume that the covariance matrix of the errors is correctly specified.<br/>[2] The condition number is large, 7.53e+04. This might indicate that there are<br/>strong multicollinearity or other numerical problems."
      ],
      "text/plain": [
       "<class 'statsmodels.iolib.summary.Summary'>\n",
       "\"\"\"\n",
       "                            OLS Regression Results                            \n",
       "==============================================================================\n",
       "Dep. Variable:                    TCS   R-squared:                       0.927\n",
       "Model:                            OLS   Adj. R-squared:                  0.926\n",
       "Method:                 Least Squares   F-statistic:                     2494.\n",
       "Date:                Thu, 27 Jan 2022   Prob (F-statistic):          8.44e-114\n",
       "Time:                        20:29:51   Log-Likelihood:                -1237.8\n",
       "No. Observations:                 199   AIC:                             2480.\n",
       "Df Residuals:                     197   BIC:                             2486.\n",
       "Df Model:                           1                                         \n",
       "Covariance Type:            nonrobust                                         \n",
       "==============================================================================\n",
       "                 coef    std err          t      P>|t|      [0.025      0.975]\n",
       "------------------------------------------------------------------------------\n",
       "const       -150.8870     53.925     -2.798      0.006    -257.232     -44.542\n",
       "Nifty          0.2224      0.004     49.942      0.000       0.214       0.231\n",
       "==============================================================================\n",
       "Omnibus:                       21.142   Durbin-Watson:                   2.020\n",
       "Prob(Omnibus):                  0.000   Jarque-Bera (JB):               25.015\n",
       "Skew:                           0.863   Prob(JB):                     3.70e-06\n",
       "Kurtosis:                       3.194   Cond. No.                     7.53e+04\n",
       "==============================================================================\n",
       "\n",
       "Notes:\n",
       "[1] Standard Errors assume that the covariance matrix of the errors is correctly specified.\n",
       "[2] The condition number is large, 7.53e+04. This might indicate that there are\n",
       "strong multicollinearity or other numerical problems.\n",
       "\"\"\""
      ]
     },
     "execution_count": 11,
     "metadata": {},
     "output_type": "execute_result"
    }
   ],
   "source": [
    "# Step 13  Summary results of all the statistics of Linear Regression #\n",
    "TCS_lm.summary() "
   ]
  },
  {
   "cell_type": "code",
   "execution_count": 13,
   "id": "5bc84caf",
   "metadata": {},
   "outputs": [],
   "source": [
    "# Step 14 importing libraries for plotting the data \n",
    "import matplotlib.pyplot as plt\n",
    "import seaborn as sn\n",
    "%matplotlib inline"
   ]
  },
  {
   "cell_type": "code",
   "execution_count": 14,
   "id": "308e207c",
   "metadata": {},
   "outputs": [],
   "source": [
    "# Step 15  importing libraries for plotting the data \n",
    "get_ipython().run_line_magic('matplotlib', 'inline')"
   ]
  },
  {
   "cell_type": "code",
   "execution_count": 18,
   "id": "af3eab00",
   "metadata": {},
   "outputs": [
    {
     "data": {
      "text/plain": [
       "<Figure size 432x288 with 0 Axes>"
      ]
     },
     "metadata": {},
     "output_type": "display_data"
    },
    {
     "data": {
      "image/png": "[encoded data removed]",
      "text/plain": [
       "<Figure size 432x288 with 1 Axes>"
      ]
     },
     "metadata": {
      "needs_background": "light"
     },
     "output_type": "display_data"
    }
   ],
   "source": [
    "# Step 16 Check for Normal Distribution of Error\n",
    "TCS_resid = TCS_lm.resid\n",
    "probplot = sm.ProbPlot(TCS_resid )\n",
    "plt.figure(figsize = (6, 4))\n",
    "probplot.ppplot(line='45')\n",
    "plt.title(\"Normal P-P Plot of Regression Standardized Residuals\")\n",
    "plt.show()\n",
    "# straight line indicates Cummulative Normal Distribution \n",
    "# Doted line indicates Cummulative Distribution of Errors\n",
    "#  dots are closer to the straight line which indicates that res follows normdis"
   ]
  },
  {
   "cell_type": "code",
   "execution_count": 20,
   "id": "6298be9b",
   "metadata": {},
   "outputs": [
    {
     "data": {
      "image/png": "[encoded data removed]",
      "text/plain": [
       "<Figure size 432x288 with 1 Axes>"
      ]
     },
     "metadata": {
      "needs_background": "light"
     },
     "output_type": "display_data"
    }
   ],
   "source": [
    "# Step 17 Test of Homoscedasticity\n",
    "def get_standardized_values( vals ):\n",
    "    return (vals - vals.mean())/vals.std()\n",
    "plt.scatter( get_standardized_values( TCS_lm.fittedvalues ),\n",
    "    get_standardized_values( TCS_resid ) )\n",
    "plt.title( \"Residual Plot: TCS Prediction\" );\n",
    "plt.xlabel( \"Standardized predicted values\")\n",
    "plt.ylabel( \"Standardized Residuals\");"
   ]
  },
  {
   "cell_type": "code",
   "execution_count": 21,
   "id": "a39a98df",
   "metadata": {},
   "outputs": [],
   "source": [
    "# Step 18    Outlier Detection using zscore #\n",
    "from scipy.stats import zscore "
   ]
  },
  {
   "cell_type": "code",
   "execution_count": 22,
   "id": "6443af2c",
   "metadata": {},
   "outputs": [],
   "source": [
    "Stock_df['z_score_TCS'] = zscore( Stock_df.TCS ) "
   ]
  },
  {
   "cell_type": "code",
   "execution_count": 23,
   "id": "3179bf61",
   "metadata": {},
   "outputs": [
    {
     "data": {
      "text/html": [
       "<div>\n",
       "<style scoped>\n",
       "    .dataframe tbody tr th:only-of-type {\n",
       "        vertical-align: middle;\n",
       "    }\n",
       "\n",
       "    .dataframe tbody tr th {\n",
       "        vertical-align: top;\n",
       "    }\n",
       "\n",
       "    .dataframe thead th {\n",
       "        text-align: right;\n",
       "    }\n",
       "</style>\n",
       "<table border=\"1\" class=\"dataframe\">\n",
       "  <thead>\n",
       "    <tr style=\"text-align: right;\">\n",
       "      <th></th>\n",
       "      <th>Date</th>\n",
       "      <th>TCS</th>\n",
       "      <th>INFY</th>\n",
       "      <th>Nifty</th>\n",
       "      <th>z_score_TCS</th>\n",
       "    </tr>\n",
       "  </thead>\n",
       "  <tbody>\n",
       "  </tbody>\n",
       "</table>\n",
       "</div>"
      ],
      "text/plain": [
       "Empty DataFrame\n",
       "Columns: [Date, TCS, INFY, Nifty, z_score_TCS]\n",
       "Index: []"
      ]
     },
     "execution_count": 23,
     "metadata": {},
     "output_type": "execute_result"
    }
   ],
   "source": [
    "Stock_df[(Stock_df.z_score_TCS > 3.0)| (Stock_df.z_score_TCS < -3.0)] "
   ]
  },
  {
   "cell_type": "code",
   "execution_count": 24,
   "id": "8df1e49c",
   "metadata": {},
   "outputs": [
    {
     "data": {
      "image/png": "[encoded data removed]",
      "text/plain": [
       "<Figure size 432x288 with 1 Axes>"
      ]
     },
     "metadata": {
      "needs_background": "light"
     },
     "output_type": "display_data"
    }
   ],
   "source": [
    "# Step 19    Outlier Detection using cook distance Assumption #\n",
    "import numpy as np\n",
    "TCS_influence = TCS_lm.get_influence() \n",
    "(c, p) = TCS_influence.cooks_distance \n",
    "plt.stem( np.arange( len(train_X) ), \n",
    "np.round( c, 3), \n",
    "markerfmt=\",\"); \n",
    "plt.title(\"Cooks distance for all observations in Finance dataset\"); \n",
    "plt.xlabel(\"Row index\") \n",
    "plt.ylabel(\"Cooks Distance\");"
   ]
  },
  {
   "cell_type": "code",
   "execution_count": 25,
   "id": "acc64518",
   "metadata": {},
   "outputs": [
    {
     "data": {
      "image/png": "[encoded data removed]",
      "text/plain": [
       "<Figure size 576x432 with 1 Axes>"
      ]
     },
     "metadata": {
      "needs_background": "light"
     },
     "output_type": "display_data"
    }
   ],
   "source": [
    "# Step 20    Outlier Detection using Leverage  Assumption Testing of outlier#\n",
    "from statsmodels.graphics.regressionplots import influence_plot \n",
    "fig, ax = plt.subplots( figsize=(8,6)) \n",
    "influence_plot(TCS_lm, ax = ax) \n",
    "plt.title(\"Leverage Value Vs Residuals\") \n",
    "plt.show();"
   ]
  },
  {
   "cell_type": "code",
   "execution_count": 26,
   "id": "802ca681",
   "metadata": {},
   "outputs": [],
   "source": [
    "# Step 21 Predicting on validation set \n",
    "pred_y = TCS_lm.predict(test_X)"
   ]
  },
  {
   "cell_type": "code",
   "execution_count": 27,
   "id": "3befc505",
   "metadata": {},
   "outputs": [],
   "source": [
    "# Step 22  Strength of relatinship using R Square and error #\n",
    "#Finding R-Square and RMSE#\n",
    "from sklearn.metrics import r2_score, mean_squared_error"
   ]
  },
  {
   "cell_type": "code",
   "execution_count": 29,
   "id": "7ef92b9c",
   "metadata": {},
   "outputs": [
    {
     "data": {
      "text/plain": [
       "0.923008514594963"
      ]
     },
     "execution_count": 29,
     "metadata": {},
     "output_type": "execute_result"
    }
   ],
   "source": [
    "np.abs(r2_score(test_y, pred_y)) "
   ]
  },
  {
   "cell_type": "code",
   "execution_count": 30,
   "id": "e4bddd4d",
   "metadata": {},
   "outputs": [],
   "source": [
    "import numpy as np"
   ]
  },
  {
   "cell_type": "code",
   "execution_count": 31,
   "id": "f75484ef",
   "metadata": {},
   "outputs": [
    {
     "data": {
      "text/plain": [
       "124.0527230168714"
      ]
     },
     "execution_count": 31,
     "metadata": {},
     "output_type": "execute_result"
    }
   ],
   "source": [
    "# Finding root mean square error #\n",
    "np.sqrt(mean_squared_error(test_y, pred_y))"
   ]
  },
  {
   "cell_type": "code",
   "execution_count": 32,
   "id": "c8e18278",
   "metadata": {},
   "outputs": [],
   "source": [
    "from statsmodels.sandbox.regression.predstd import wls_prediction_std \n",
    "# Predict the y values\n",
    "pred_y = TCS_lm.predict(test_X ) \n",
    "# Predict the low and high interval values for y\n",
    "_, pred_y_low, pred_y_high = wls_prediction_std( TCS_lm,test_X,alpha = 0.1) \n",
    "# Store all the values in a dataframe\n",
    "pred_y_df = pd.DataFrame({'Nifty Closing': test_X['Nifty'], \n",
    "'pred_y': pred_y, \n",
    "'pred_y_left': pred_y_low, \n",
    "'pred_y_right': pred_y_high })"
   ]
  },
  {
   "cell_type": "code",
   "execution_count": 33,
   "id": "9473ea09",
   "metadata": {},
   "outputs": [
    {
     "data": {
      "text/html": [
       "<div>\n",
       "<style scoped>\n",
       "    .dataframe tbody tr th:only-of-type {\n",
       "        vertical-align: middle;\n",
       "    }\n",
       "\n",
       "    .dataframe tbody tr th {\n",
       "        vertical-align: top;\n",
       "    }\n",
       "\n",
       "    .dataframe thead th {\n",
       "        text-align: right;\n",
       "    }\n",
       "</style>\n",
       "<table border=\"1\" class=\"dataframe\">\n",
       "  <thead>\n",
       "    <tr style=\"text-align: right;\">\n",
       "      <th></th>\n",
       "      <th>Nifty Closing</th>\n",
       "      <th>pred_y</th>\n",
       "      <th>pred_y_left</th>\n",
       "      <th>pred_y_right</th>\n",
       "    </tr>\n",
       "  </thead>\n",
       "  <tbody>\n",
       "    <tr>\n",
       "      <th>65</th>\n",
       "      <td>10813.45</td>\n",
       "      <td>2253.681980</td>\n",
       "      <td>2050.899749</td>\n",
       "      <td>2456.464212</td>\n",
       "    </tr>\n",
       "    <tr>\n",
       "      <th>59</th>\n",
       "      <td>10430.05</td>\n",
       "      <td>2168.425956</td>\n",
       "      <td>1965.507430</td>\n",
       "      <td>2371.344481</td>\n",
       "    </tr>\n",
       "    <tr>\n",
       "      <th>194</th>\n",
       "      <td>14484.75</td>\n",
       "      <td>3070.062898</td>\n",
       "      <td>2866.599945</td>\n",
       "      <td>3273.525852</td>\n",
       "    </tr>\n",
       "    <tr>\n",
       "      <th>112</th>\n",
       "      <td>11440.05</td>\n",
       "      <td>2393.017988</td>\n",
       "      <td>2190.374134</td>\n",
       "      <td>2595.661841</td>\n",
       "    </tr>\n",
       "    <tr>\n",
       "      <th>192</th>\n",
       "      <td>14137.35</td>\n",
       "      <td>2992.812134</td>\n",
       "      <td>2789.567253</td>\n",
       "      <td>3196.057015</td>\n",
       "    </tr>\n",
       "    <tr>\n",
       "      <th>169</th>\n",
       "      <td>13258.55</td>\n",
       "      <td>2797.394829</td>\n",
       "      <td>2594.558763</td>\n",
       "      <td>3000.230896</td>\n",
       "    </tr>\n",
       "    <tr>\n",
       "      <th>152</th>\n",
       "      <td>12631.10</td>\n",
       "      <td>2657.869809</td>\n",
       "      <td>2455.199847</td>\n",
       "      <td>2860.539771</td>\n",
       "    </tr>\n",
       "    <tr>\n",
       "      <th>203</th>\n",
       "      <td>14371.90</td>\n",
       "      <td>3044.968630</td>\n",
       "      <td>2841.580013</td>\n",
       "      <td>3248.357247</td>\n",
       "    </tr>\n",
       "    <tr>\n",
       "      <th>214</th>\n",
       "      <td>15109.30</td>\n",
       "      <td>3208.943050</td>\n",
       "      <td>3005.008035</td>\n",
       "      <td>3412.878066</td>\n",
       "    </tr>\n",
       "    <tr>\n",
       "      <th>173</th>\n",
       "      <td>13478.30</td>\n",
       "      <td>2846.260274</td>\n",
       "      <td>2643.341225</td>\n",
       "      <td>3049.179323</td>\n",
       "    </tr>\n",
       "  </tbody>\n",
       "</table>\n",
       "</div>"
      ],
      "text/plain": [
       "     Nifty Closing       pred_y  pred_y_left  pred_y_right\n",
       "65        10813.45  2253.681980  2050.899749   2456.464212\n",
       "59        10430.05  2168.425956  1965.507430   2371.344481\n",
       "194       14484.75  3070.062898  2866.599945   3273.525852\n",
       "112       11440.05  2393.017988  2190.374134   2595.661841\n",
       "192       14137.35  2992.812134  2789.567253   3196.057015\n",
       "169       13258.55  2797.394829  2594.558763   3000.230896\n",
       "152       12631.10  2657.869809  2455.199847   2860.539771\n",
       "203       14371.90  3044.968630  2841.580013   3248.357247\n",
       "214       15109.30  3208.943050  3005.008035   3412.878066\n",
       "173       13478.30  2846.260274  2643.341225   3049.179323"
      ]
     },
     "execution_count": 33,
     "metadata": {},
     "output_type": "execute_result"
    }
   ],
   "source": [
    "pred_y_df[0:10] "
   ]
  }
 ],
 "metadata": {
  "kernelspec": {
   "display_name": "Python 3",
   "language": "python",
   "name": "python3"
  },
  "language_info": {
   "codemirror_mode": {
    "name": "ipython",
    "version": 3
   },
   "file_extension": ".py",
   "mimetype": "text/x-python",
   "name": "python",
   "nbconvert_exporter": "python",
   "pygments_lexer": "ipython3",
   "version": "3.8.8"
  }
 },
 "nbformat": 4,
 "nbformat_minor": 5
}
